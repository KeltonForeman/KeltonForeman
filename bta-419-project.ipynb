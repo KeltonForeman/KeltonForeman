{
 "cells": [
  {
   "cell_type": "code",
   "execution_count": 1,
   "id": "0b3a8f6f",
   "metadata": {
    "_cell_guid": "b1076dfc-b9ad-4769-8c92-a6c4dae69d19",
    "_uuid": "8f2839f25d086af736a60e9eeb907d3b93b6e0e5",
    "execution": {
     "iopub.execute_input": "2022-03-08T21:01:31.790550Z",
     "iopub.status.busy": "2022-03-08T21:01:31.789700Z",
     "iopub.status.idle": "2022-03-08T21:01:31.802397Z",
     "shell.execute_reply": "2022-03-08T21:01:31.801423Z",
     "shell.execute_reply.started": "2022-03-08T20:07:43.854639Z"
    },
    "papermill": {
     "duration": 0.036016,
     "end_time": "2022-03-08T21:01:31.802603",
     "exception": false,
     "start_time": "2022-03-08T21:01:31.766587",
     "status": "completed"
    },
    "tags": []
   },
   "outputs": [
    {
     "name": "stdout",
     "output_type": "stream",
     "text": [
      "/kaggle/input/chess/games.csv\n"
     ]
    }
   ],
   "source": [
    "# This Python 3 environment comes with many helpful analytics libraries installed\n",
    "# It is defined by the kaggle/python Docker image: https://github.com/kaggle/docker-python\n",
    "# For example, here's several helpful packages to load\n",
    "\n",
    "import numpy as np # linear algebra\n",
    "import pandas as pd # data processing, CSV file I/O (e.g. pd.read_csv)\n",
    "import matplotlib.pyplot as plt\n",
    "\n",
    "# Input data files are available in the read-only \"../input/\" directory\n",
    "# For example, running this (by clicking run or pressing Shift+Enter) will list all files under the input directory\n",
    "\n",
    "import os\n",
    "for dirname, _, filenames in os.walk('/kaggle/input'):\n",
    "    for filename in filenames:\n",
    "        print(os.path.join(dirname, filename))\n",
    "\n",
    "# You can write up to 20GB to the current directory (/kaggle/working/) that gets preserved as output when you create a version using \"Save & Run All\" \n",
    "# You can also write temporary files to /kaggle/temp/, but they won't be saved outside of the current session"
   ]
  },
  {
   "cell_type": "code",
   "execution_count": 2,
   "id": "30fd5b15",
   "metadata": {
    "execution": {
     "iopub.execute_input": "2022-03-08T21:01:31.830353Z",
     "iopub.status.busy": "2022-03-08T21:01:31.828784Z",
     "iopub.status.idle": "2022-03-08T21:01:31.831921Z",
     "shell.execute_reply": "2022-03-08T21:01:31.831246Z",
     "shell.execute_reply.started": "2022-03-08T20:07:43.874120Z"
    },
    "papermill": {
     "duration": 0.018789,
     "end_time": "2022-03-08T21:01:31.832068",
     "exception": false,
     "start_time": "2022-03-08T21:01:31.813279",
     "status": "completed"
    },
    "tags": []
   },
   "outputs": [],
   "source": [
    "#Question 1 will be what is the most popular chess opening and what are the best alternatives\n",
    "#Q1 outcome variable will be most_played, second_popular, third_popular\n",
    "#To explore the outcome varaible most_played, I plan to look at how many times an opening is played,\n",
    "#Q1 will contain the following models: times opening played(opening_name variable) and which opening (opening_name)\n",
    "\n",
    "\n",
    "#For all of these questions, I will also develop functions to help in my analyses\n"
   ]
  },
  {
   "cell_type": "code",
   "execution_count": 3,
   "id": "c75b0765",
   "metadata": {
    "execution": {
     "iopub.execute_input": "2022-03-08T21:01:31.857845Z",
     "iopub.status.busy": "2022-03-08T21:01:31.856938Z",
     "iopub.status.idle": "2022-03-08T21:01:31.862383Z",
     "shell.execute_reply": "2022-03-08T21:01:31.861591Z",
     "shell.execute_reply.started": "2022-03-08T20:07:43.884852Z"
    },
    "papermill": {
     "duration": 0.020735,
     "end_time": "2022-03-08T21:01:31.862567",
     "exception": false,
     "start_time": "2022-03-08T21:01:31.841832",
     "status": "completed"
    },
    "tags": []
   },
   "outputs": [],
   "source": [
    "#Question 2 will be which chess opening results are definitive: win or loss (no draws), and how many wins and losses are there in the dataset\n",
    "#Question 2 will have the outcome variable opening_wins to detect which opening has the most definitive conclusions\n",
    "#To explore the outcome variable, I plan to look at the opening_names and see which opening contains the most \"win\",\"loss\",\"draw\" for the top 3 most popular openings as found in Q1\n",
    "#Q2 will contain the following models: times opening played, how many wins per top 3 openings"
   ]
  },
  {
   "cell_type": "code",
   "execution_count": 4,
   "id": "2b164833",
   "metadata": {
    "execution": {
     "iopub.execute_input": "2022-03-08T21:01:31.887416Z",
     "iopub.status.busy": "2022-03-08T21:01:31.886607Z",
     "iopub.status.idle": "2022-03-08T21:01:31.888420Z",
     "shell.execute_reply": "2022-03-08T21:01:31.888944Z",
     "shell.execute_reply.started": "2022-03-08T20:07:43.903442Z"
    },
    "papermill": {
     "duration": 0.016717,
     "end_time": "2022-03-08T21:01:31.889144",
     "exception": false,
     "start_time": "2022-03-08T21:01:31.872427",
     "status": "completed"
    },
    "tags": []
   },
   "outputs": [],
   "source": [
    "#Question 3 will be which chess opening results in the most and which has the least amount of moves\n",
    "#Q3 outcome variable will be most_moves and least_moves\n",
    "#To explore the outcome variable, I plan to look at the average amount of moves for the entire dataset, the opening which has the average of most moves, and the opening with the least moves\n",
    "#To explore this, I will use pivot tables\n",
    "#Q3 will contain the following models: average moves per top openings and the min/max for each too"
   ]
  },
  {
   "cell_type": "code",
   "execution_count": 5,
   "id": "acc6b62c",
   "metadata": {
    "execution": {
     "iopub.execute_input": "2022-03-08T21:01:31.912470Z",
     "iopub.status.busy": "2022-03-08T21:01:31.911771Z",
     "iopub.status.idle": "2022-03-08T21:01:32.319324Z",
     "shell.execute_reply": "2022-03-08T21:01:32.319716Z",
     "shell.execute_reply.started": "2022-03-08T20:07:43.917524Z"
    },
    "papermill": {
     "duration": 0.421076,
     "end_time": "2022-03-08T21:01:32.319894",
     "exception": false,
     "start_time": "2022-03-08T21:01:31.898818",
     "status": "completed"
    },
    "tags": []
   },
   "outputs": [
    {
     "name": "stdout",
     "output_type": "stream",
     "text": [
      "         id  rated    created_at  last_move_at  turns victory_status winner  \\\n",
      "0  TZJHLljE  False  1.504210e+12  1.504210e+12     13      outoftime  white   \n",
      "1  l1NXvwaE   True  1.504130e+12  1.504130e+12     16         resign  black   \n",
      "2  mIICvQHh   True  1.504130e+12  1.504130e+12     61           mate  white   \n",
      "3  kWKvrqYL   True  1.504110e+12  1.504110e+12     61           mate  white   \n",
      "4  9tXo1AUZ   True  1.504030e+12  1.504030e+12     95           mate  white   \n",
      "\n",
      "  increment_code       white_id  white_rating      black_id  black_rating  \\\n",
      "0           15+2       bourgris          1500          a-00          1191   \n",
      "1           5+10           a-00          1322     skinnerua          1261   \n",
      "2           5+10         ischia          1496          a-00          1500   \n",
      "3           20+0  daniamurashov          1439  adivanov2009          1454   \n",
      "4           30+3      nik221107          1523  adivanov2009          1469   \n",
      "\n",
      "                                               moves opening_eco  \\\n",
      "0  d4 d5 c4 c6 cxd5 e6 dxe6 fxe6 Nf3 Bb4+ Nc3 Ba5...         D10   \n",
      "1  d4 Nc6 e4 e5 f4 f6 dxe5 fxe5 fxe5 Nxe5 Qd4 Nc6...         B00   \n",
      "2  e4 e5 d3 d6 Be3 c6 Be2 b5 Nd2 a5 a4 c5 axb5 Nc...         C20   \n",
      "3  d4 d5 Nf3 Bf5 Nc3 Nf6 Bf4 Ng4 e3 Nc6 Be2 Qd7 O...         D02   \n",
      "4  e4 e5 Nf3 d6 d4 Nc6 d5 Nb4 a3 Na6 Nc3 Be7 b4 N...         C41   \n",
      "\n",
      "                             opening_name  opening_ply  \n",
      "0        Slav Defense: Exchange Variation            5  \n",
      "1  Nimzowitsch Defense: Kennedy Variation            4  \n",
      "2   King's Pawn Game: Leonardis Variation            3  \n",
      "3  Queen's Pawn Game: Zukertort Variation            3  \n",
      "4                        Philidor Defense            5  \n",
      "<class 'pandas.core.frame.DataFrame'>\n",
      "RangeIndex: 20058 entries, 0 to 20057\n",
      "Data columns (total 16 columns):\n",
      " #   Column          Non-Null Count  Dtype  \n",
      "---  ------          --------------  -----  \n",
      " 0   id              20058 non-null  object \n",
      " 1   rated           20058 non-null  bool   \n",
      " 2   created_at      20058 non-null  float64\n",
      " 3   last_move_at    20058 non-null  float64\n",
      " 4   turns           20058 non-null  int64  \n",
      " 5   victory_status  20058 non-null  object \n",
      " 6   winner          20058 non-null  object \n",
      " 7   increment_code  20058 non-null  object \n",
      " 8   white_id        20058 non-null  object \n",
      " 9   white_rating    20058 non-null  int64  \n",
      " 10  black_id        20058 non-null  object \n",
      " 11  black_rating    20058 non-null  int64  \n",
      " 12  moves           20058 non-null  object \n",
      " 13  opening_eco     20058 non-null  object \n",
      " 14  opening_name    20058 non-null  object \n",
      " 15  opening_ply     20058 non-null  int64  \n",
      "dtypes: bool(1), float64(2), int64(4), object(9)\n",
      "memory usage: 2.3+ MB\n"
     ]
    }
   ],
   "source": [
    "#This is code to read and get some basic info on the chess set\n",
    "chess_set = pd.read_csv(\"/kaggle/input/chess/games.csv\")\n",
    "print(chess_set.head())\n",
    "chess_set.info()"
   ]
  },
  {
   "cell_type": "code",
   "execution_count": 6,
   "id": "9010f18d",
   "metadata": {
    "execution": {
     "iopub.execute_input": "2022-03-08T21:01:32.343824Z",
     "iopub.status.busy": "2022-03-08T21:01:32.337007Z",
     "iopub.status.idle": "2022-03-08T21:01:32.572389Z",
     "shell.execute_reply": "2022-03-08T21:01:32.571794Z",
     "shell.execute_reply.started": "2022-03-08T20:28:05.370643Z"
    },
    "papermill": {
     "duration": 0.245707,
     "end_time": "2022-03-08T21:01:32.572539",
     "exception": false,
     "start_time": "2022-03-08T21:01:32.326832",
     "status": "completed"
    },
    "tags": []
   },
   "outputs": [
    {
     "name": "stdout",
     "output_type": "stream",
     "text": [
      "Van't Kruijs Opening                368\n",
      "Sicilian Defense                    358\n",
      "Sicilian Defense: Bowdler Attack    296\n",
      "Name: opening_name, dtype: int64\n"
     ]
    },
    {
     "data": {
      "image/png": "[encoded data removed]",
      "text/plain": [
       "<Figure size 432x288 with 1 Axes>"
      ]
     },
     "metadata": {
      "needs_background": "light"
     },
     "output_type": "display_data"
    }
   ],
   "source": [
    "#Q1 Find out how many different openings are played in the data set\n",
    "import matplotlib.colors as mcolors\n",
    "open_count = chess_set[\"opening_name\"].value_counts()\n",
    "print(open_count.head(3))\n",
    "open_count.head(3).sort_values().plot(kind='barh',color=['blue','green','pink'],edgecolor='black')\n",
    "plt.show()\n",
    "#This graph shows the top three most played openings, the Van't Kruijs Opening, the Sicilian Defense, and the Sicilian Defence: Bowdler Attack Variation\n",
    "\n",
    "\n",
    "\n"
   ]
  },
  {
   "cell_type": "code",
   "execution_count": 7,
   "id": "de800c3a",
   "metadata": {
    "execution": {
     "iopub.execute_input": "2022-03-08T21:01:32.604191Z",
     "iopub.status.busy": "2022-03-08T21:01:32.603578Z",
     "iopub.status.idle": "2022-03-08T21:01:32.958022Z",
     "shell.execute_reply": "2022-03-08T21:01:32.958588Z",
     "shell.execute_reply.started": "2022-03-08T20:51:26.038750Z"
    },
    "papermill": {
     "duration": 0.375191,
     "end_time": "2022-03-08T21:01:32.958836",
     "exception": false,
     "start_time": "2022-03-08T21:01:32.583645",
     "status": "completed"
    },
    "tags": []
   },
   "outputs": [
    {
     "name": "stdout",
     "output_type": "stream",
     "text": [
      "Resign         0.555738\n",
      "Mate           0.315336\n",
      "Out Of Time    0.083757\n",
      "Draw           0.045169\n",
      "Name: outcome, dtype: float64\n"
     ]
    },
    {
     "data": {
      "text/plain": [
       "Text(0, 0.5, 'Outcomes')"
      ]
     },
     "execution_count": 7,
     "metadata": {},
     "output_type": "execute_result"
    },
    {
     "data": {
      "image/png": "[encoded data removed]",
      "text/plain": [
       "<Figure size 432x288 with 1 Axes>"
      ]
     },
     "metadata": {},
     "output_type": "display_data"
    }
   ],
   "source": [
    "#Question 2 will be which chess opening results are definitive: win or loss (no draws), and how many wins and losses are there in the dataset\n",
    "fig, ax = plt.subplots()\n",
    "WLD = {'outoftime':'Out Of Time','resign':'Resign','mate':'Mate','draw':'Draw'}\n",
    "chess_set['outcome']=chess_set.victory_status.map(WLD)\n",
    "outcomes = chess_set.outcome.value_counts(normalize=True)\n",
    "print(outcomes)\n",
    "#This code tells me there is a 55% chance of resignation, a  31% chance of a mate, an 08% chance of outoftime, and a 04% chance of a draw\n",
    "outcomes.plot(kind='pie', colors = ['pink','green','blue','grey'])\n",
    "ax.set_xlabel = ('Outcomes')\n",
    "ax.set_ylabel('Outcomes')\n",
    "#This solves the first of the Q2 of what are the different amount of game resolutions in the dataset. It is clear that there is a large amount of resignations with smaller amounts of mates, and even less out of times, and less draws.\n",
    "\n",
    "\n",
    "\n",
    "\n",
    "\n",
    "                            "
   ]
  }
 ],
 "metadata": {
  "kernelspec": {
   "display_name": "Python 3",
   "language": "python",
   "name": "python3"
  },
  "language_info": {
   "codemirror_mode": {
    "name": "ipython",
    "version": 3
   },
   "file_extension": ".py",
   "mimetype": "text/x-python",
   "name": "python",
   "nbconvert_exporter": "python",
   "pygments_lexer": "ipython3",
   "version": "3.7.12"
  },
  "papermill": {
   "default_parameters": {},
   "duration": 17.217206,
   "end_time": "2022-03-08T21:01:35.761417",
   "environment_variables": {},
   "exception": null,
   "input_path": "__notebook__.ipynb",
   "output_path": "__notebook__.ipynb",
   "parameters": {},
   "start_time": "2022-03-08T21:01:18.544211",
   "version": "2.3.3"
  }
 },
 "nbformat": 4,
 "nbformat_minor": 5
}
