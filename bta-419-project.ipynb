{
 "cells": [
  {
   "cell_type": "code",
   "execution_count": 1,
   "id": "dddd9242",
   "metadata": {
    "_cell_guid": "b1076dfc-b9ad-4769-8c92-a6c4dae69d19",
    "_uuid": "8f2839f25d086af736a60e9eeb907d3b93b6e0e5",
    "execution": {
     "iopub.execute_input": "2022-03-08T00:25:58.324884Z",
     "iopub.status.busy": "2022-03-08T00:25:58.317254Z",
     "iopub.status.idle": "2022-03-08T00:25:58.339428Z",
     "shell.execute_reply": "2022-03-08T00:25:58.340083Z",
     "shell.execute_reply.started": "2022-02-18T18:33:49.671188Z"
    },
    "papermill": {
     "duration": 0.035965,
     "end_time": "2022-03-08T00:25:58.340403",
     "exception": false,
     "start_time": "2022-03-08T00:25:58.304438",
     "status": "completed"
    },
    "tags": []
   },
   "outputs": [
    {
     "name": "stdout",
     "output_type": "stream",
     "text": [
      "/kaggle/input/chess/games.csv\n"
     ]
    }
   ],
   "source": [
    "# This Python 3 environment comes with many helpful analytics libraries installed\n",
    "# It is defined by the kaggle/python Docker image: https://github.com/kaggle/docker-python\n",
    "# For example, here's several helpful packages to load\n",
    "\n",
    "import numpy as np # linear algebra\n",
    "import pandas as pd # data processing, CSV file I/O (e.g. pd.read_csv)\n",
    "import matplotlib.pyplot as plt\n",
    "\n",
    "# Input data files are available in the read-only \"../input/\" directory\n",
    "# For example, running this (by clicking run or pressing Shift+Enter) will list all files under the input directory\n",
    "\n",
    "import os\n",
    "for dirname, _, filenames in os.walk('/kaggle/input'):\n",
    "    for filename in filenames:\n",
    "        print(os.path.join(dirname, filename))\n",
    "\n",
    "# You can write up to 20GB to the current directory (/kaggle/working/) that gets preserved as output when you create a version using \"Save & Run All\" \n",
    "# You can also write temporary files to /kaggle/temp/, but they won't be saved outside of the current session"
   ]
  },
  {
   "cell_type": "code",
   "execution_count": 2,
   "id": "966ea305",
   "metadata": {
    "execution": {
     "iopub.execute_input": "2022-03-08T00:25:58.360966Z",
     "iopub.status.busy": "2022-03-08T00:25:58.359612Z",
     "iopub.status.idle": "2022-03-08T00:25:58.363709Z",
     "shell.execute_reply": "2022-03-08T00:25:58.364165Z",
     "shell.execute_reply.started": "2022-02-18T18:33:49.98002Z"
    },
    "papermill": {
     "duration": 0.015525,
     "end_time": "2022-03-08T00:25:58.364400",
     "exception": false,
     "start_time": "2022-03-08T00:25:58.348875",
     "status": "completed"
    },
    "tags": []
   },
   "outputs": [],
   "source": [
    "#Question 1 will be what is the most popular chess opening and what are the best alternatives\n",
    "#Q1 outcome variable will be most_played, second_popular, third_popular\n",
    "#To explore the outcome varaible most_played, I plan to look at how many times an opening is played,\n",
    "#Q1 will contain the following models: times opening played(opening_name variable) and which opening (opening_name)\n",
    "\n",
    "\n",
    "#For all of these questions, I will also develop functions to help in my analyses\n"
   ]
  },
  {
   "cell_type": "code",
   "execution_count": 3,
   "id": "04278782",
   "metadata": {
    "execution": {
     "iopub.execute_input": "2022-03-08T00:25:58.384377Z",
     "iopub.status.busy": "2022-03-08T00:25:58.383328Z",
     "iopub.status.idle": "2022-03-08T00:25:58.387068Z",
     "shell.execute_reply": "2022-03-08T00:25:58.387550Z",
     "shell.execute_reply.started": "2022-02-18T18:33:50.009985Z"
    },
    "papermill": {
     "duration": 0.015775,
     "end_time": "2022-03-08T00:25:58.387782",
     "exception": false,
     "start_time": "2022-03-08T00:25:58.372007",
     "status": "completed"
    },
    "tags": []
   },
   "outputs": [],
   "source": [
    "#Question 2 will be which chess opening results are definitive: win or loss (no draws), and how many wins and losses are there in the dataset\n",
    "#Question 2 will have the outcome variable opening_wins to detect which opening has the most definitive conclusions\n",
    "#To explore the outcome variable, I plan to look at the opening_names and see which opening contains the most \"win\",\"loss\",\"draw\" for the top 3 most popular openings as found in Q1\n",
    "#Q2 will contain the following models: times opening played, how many wins per top 3 opening, and "
   ]
  },
  {
   "cell_type": "code",
   "execution_count": 4,
   "id": "701e3257",
   "metadata": {
    "execution": {
     "iopub.execute_input": "2022-03-08T00:25:58.407025Z",
     "iopub.status.busy": "2022-03-08T00:25:58.406004Z",
     "iopub.status.idle": "2022-03-08T00:25:58.409602Z",
     "shell.execute_reply": "2022-03-08T00:25:58.410092Z",
     "shell.execute_reply.started": "2022-02-18T18:33:50.314861Z"
    },
    "papermill": {
     "duration": 0.014851,
     "end_time": "2022-03-08T00:25:58.410268",
     "exception": false,
     "start_time": "2022-03-08T00:25:58.395417",
     "status": "completed"
    },
    "tags": []
   },
   "outputs": [],
   "source": [
    "#Question 3 will be which chess opening results in the most and which has the least amount of moves\n",
    "#Q3 outcome variable will be most_moves and least_moves\n",
    "#To explore the outcome variable, I plan to look at the average amount of moves for the entire dataset, the opening which has the average of most moves, and the opening with the least moves\n",
    "#To explore this, I will use pivot tables\n",
    "#Q3 will contain the following models: average moves per top openings and the min/max for each too"
   ]
  },
  {
   "cell_type": "code",
   "execution_count": 5,
   "id": "cad94a6c",
   "metadata": {
    "execution": {
     "iopub.execute_input": "2022-03-08T00:25:58.429288Z",
     "iopub.status.busy": "2022-03-08T00:25:58.428255Z",
     "iopub.status.idle": "2022-03-08T00:25:58.736563Z",
     "shell.execute_reply": "2022-03-08T00:25:58.737283Z",
     "shell.execute_reply.started": "2022-02-18T18:33:50.332319Z"
    },
    "papermill": {
     "duration": 0.319703,
     "end_time": "2022-03-08T00:25:58.737480",
     "exception": false,
     "start_time": "2022-03-08T00:25:58.417777",
     "status": "completed"
    },
    "tags": []
   },
   "outputs": [
    {
     "name": "stdout",
     "output_type": "stream",
     "text": [
      "         id  rated    created_at  last_move_at  turns victory_status winner  \\\n",
      "0  TZJHLljE  False  1.504210e+12  1.504210e+12     13      outoftime  white   \n",
      "1  l1NXvwaE   True  1.504130e+12  1.504130e+12     16         resign  black   \n",
      "2  mIICvQHh   True  1.504130e+12  1.504130e+12     61           mate  white   \n",
      "3  kWKvrqYL   True  1.504110e+12  1.504110e+12     61           mate  white   \n",
      "4  9tXo1AUZ   True  1.504030e+12  1.504030e+12     95           mate  white   \n",
      "\n",
      "  increment_code       white_id  white_rating      black_id  black_rating  \\\n",
      "0           15+2       bourgris          1500          a-00          1191   \n",
      "1           5+10           a-00          1322     skinnerua          1261   \n",
      "2           5+10         ischia          1496          a-00          1500   \n",
      "3           20+0  daniamurashov          1439  adivanov2009          1454   \n",
      "4           30+3      nik221107          1523  adivanov2009          1469   \n",
      "\n",
      "                                               moves opening_eco  \\\n",
      "0  d4 d5 c4 c6 cxd5 e6 dxe6 fxe6 Nf3 Bb4+ Nc3 Ba5...         D10   \n",
      "1  d4 Nc6 e4 e5 f4 f6 dxe5 fxe5 fxe5 Nxe5 Qd4 Nc6...         B00   \n",
      "2  e4 e5 d3 d6 Be3 c6 Be2 b5 Nd2 a5 a4 c5 axb5 Nc...         C20   \n",
      "3  d4 d5 Nf3 Bf5 Nc3 Nf6 Bf4 Ng4 e3 Nc6 Be2 Qd7 O...         D02   \n",
      "4  e4 e5 Nf3 d6 d4 Nc6 d5 Nb4 a3 Na6 Nc3 Be7 b4 N...         C41   \n",
      "\n",
      "                             opening_name  opening_ply  \n",
      "0        Slav Defense: Exchange Variation            5  \n",
      "1  Nimzowitsch Defense: Kennedy Variation            4  \n",
      "2   King's Pawn Game: Leonardis Variation            3  \n",
      "3  Queen's Pawn Game: Zukertort Variation            3  \n",
      "4                        Philidor Defense            5  \n",
      "<class 'pandas.core.frame.DataFrame'>\n",
      "RangeIndex: 20058 entries, 0 to 20057\n",
      "Data columns (total 16 columns):\n",
      " #   Column          Non-Null Count  Dtype  \n",
      "---  ------          --------------  -----  \n",
      " 0   id              20058 non-null  object \n",
      " 1   rated           20058 non-null  bool   \n",
      " 2   created_at      20058 non-null  float64\n",
      " 3   last_move_at    20058 non-null  float64\n",
      " 4   turns           20058 non-null  int64  \n",
      " 5   victory_status  20058 non-null  object \n",
      " 6   winner          20058 non-null  object \n",
      " 7   increment_code  20058 non-null  object \n",
      " 8   white_id        20058 non-null  object \n",
      " 9   white_rating    20058 non-null  int64  \n",
      " 10  black_id        20058 non-null  object \n",
      " 11  black_rating    20058 non-null  int64  \n",
      " 12  moves           20058 non-null  object \n",
      " 13  opening_eco     20058 non-null  object \n",
      " 14  opening_name    20058 non-null  object \n",
      " 15  opening_ply     20058 non-null  int64  \n",
      "dtypes: bool(1), float64(2), int64(4), object(9)\n",
      "memory usage: 2.3+ MB\n"
     ]
    }
   ],
   "source": [
    "chess_set = pd.read_csv(\"/kaggle/input/chess/games.csv\")\n",
    "print(chess_set.head())\n",
    "chess_set.info()"
   ]
  },
  {
   "cell_type": "code",
   "execution_count": 6,
   "id": "c4836b4b",
   "metadata": {
    "execution": {
     "iopub.execute_input": "2022-03-08T00:25:58.759901Z",
     "iopub.status.busy": "2022-03-08T00:25:58.759077Z",
     "iopub.status.idle": "2022-03-08T00:25:58.934444Z",
     "shell.execute_reply": "2022-03-08T00:25:58.935356Z",
     "shell.execute_reply.started": "2022-02-18T18:50:20.110766Z"
    },
    "papermill": {
     "duration": 0.189294,
     "end_time": "2022-03-08T00:25:58.935666",
     "exception": false,
     "start_time": "2022-03-08T00:25:58.746372",
     "status": "completed"
    },
    "tags": []
   },
   "outputs": [
    {
     "name": "stdout",
     "output_type": "stream",
     "text": [
      "Van't Kruijs Opening                                              368\n",
      "Sicilian Defense                                                  358\n",
      "Sicilian Defense: Bowdler Attack                                  296\n",
      "Scotch Game                                                       271\n",
      "French Defense: Knight Variation                                  271\n",
      "                                                                 ... \n",
      "Sicilian Defense: Kupreichik Variation                              1\n",
      "Modern Defense: Lizard Defense |  Mittenberger Gambit               1\n",
      "French Defense: Rubinstein Variation |  Kasparov Attack             1\n",
      "French Defense: Tarrasch Variation |  Open System |  Main Line      1\n",
      "Sicilian Defense: Najdorf Variation |  Polugaevsky Variation        1\n",
      "Name: opening_name, Length: 1477, dtype: int64\n"
     ]
    },
    {
     "data": {
      "image/png": "[encoded data removed]",
      "text/plain": [
       "<Figure size 432x288 with 1 Axes>"
      ]
     },
     "metadata": {
      "needs_background": "light"
     },
     "output_type": "display_data"
    }
   ],
   "source": [
    "#Q1 Find out how many different openings are played in the data set\n",
    "open_count = chess_set[\"opening_name\"].value_counts()\n",
    "print(open_count)\n",
    "#This shows that Van't Kruijs Opening is used 368 times\n",
    "#The second most popular is the Sicilian Defense\n",
    "#The third most popular is the Sicilian defense: Bowdler Attack\n",
    "top_3_openings = [\"Scotch Game\",\"Bowdler Attack\",\"Sicilian Defense\",\"Van't Kruijs\"]\n",
    "amount_played = [\"271\",\"296\",\"358\",\"368\"]\n",
    "plt.bar(top_3_openings,amount_played,width=.55,bottom=0, color=['green','red','blue','orange'],edgecolor='black')\n",
    "plt.xlabel=(\"Opening name\")\n",
    "plt.ylabel=(\"Times Played\")\n",
    "plt.title=(\"Top 3 Openings\")\n",
    "plt.show()\n",
    "#I am unable to get the chart to show the data for the Scotch game\n",
    "\n",
    "\n"
   ]
  },
  {
   "cell_type": "code",
   "execution_count": 7,
   "id": "66606b0d",
   "metadata": {
    "execution": {
     "iopub.execute_input": "2022-03-08T00:25:58.974363Z",
     "iopub.status.busy": "2022-03-08T00:25:58.973311Z",
     "iopub.status.idle": "2022-03-08T00:25:58.977693Z",
     "shell.execute_reply": "2022-03-08T00:25:58.978302Z",
     "shell.execute_reply.started": "2022-02-18T19:01:54.212095Z"
    },
    "papermill": {
     "duration": 0.026225,
     "end_time": "2022-03-08T00:25:58.978502",
     "exception": false,
     "start_time": "2022-03-08T00:25:58.952277",
     "status": "completed"
    },
    "tags": []
   },
   "outputs": [],
   "source": [
    "#Question 2 will be which chess opening results are definitive: win or loss (no draws), and how many wins and losses are there in the dataset\n",
    "\n",
    "                            "
   ]
  }
 ],
 "metadata": {
  "kernelspec": {
   "display_name": "Python 3",
   "language": "python",
   "name": "python3"
  },
  "language_info": {
   "codemirror_mode": {
    "name": "ipython",
    "version": 3
   },
   "file_extension": ".py",
   "mimetype": "text/x-python",
   "name": "python",
   "nbconvert_exporter": "python",
   "pygments_lexer": "ipython3",
   "version": "3.7.12"
  },
  "papermill": {
   "default_parameters": {},
   "duration": 13.292111,
   "end_time": "2022-03-08T00:25:59.597892",
   "environment_variables": {},
   "exception": null,
   "input_path": "__notebook__.ipynb",
   "output_path": "__notebook__.ipynb",
   "parameters": {},
   "start_time": "2022-03-08T00:25:46.305781",
   "version": "2.3.3"
  }
 },
 "nbformat": 4,
 "nbformat_minor": 5
}
