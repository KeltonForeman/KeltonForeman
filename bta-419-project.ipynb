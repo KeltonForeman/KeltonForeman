{
 "cells": [
  {
   "cell_type": "code",
   "execution_count": 1,
   "id": "62be8f59",
   "metadata": {
    "_cell_guid": "b1076dfc-b9ad-4769-8c92-a6c4dae69d19",
    "_uuid": "8f2839f25d086af736a60e9eeb907d3b93b6e0e5",
    "execution": {
     "iopub.execute_input": "2022-03-13T22:01:17.303431Z",
     "iopub.status.busy": "2022-03-13T22:01:17.302776Z",
     "iopub.status.idle": "2022-03-13T22:01:17.313500Z",
     "shell.execute_reply": "2022-03-13T22:01:17.312731Z",
     "shell.execute_reply.started": "2022-03-13T21:33:39.040376Z"
    },
    "papermill": {
     "duration": 0.033014,
     "end_time": "2022-03-13T22:01:17.313680",
     "exception": false,
     "start_time": "2022-03-13T22:01:17.280666",
     "status": "completed"
    },
    "tags": []
   },
   "outputs": [
    {
     "name": "stdout",
     "output_type": "stream",
     "text": [
      "/kaggle/input/chess/games.csv\n"
     ]
    }
   ],
   "source": [
    "# This Python 3 environment comes with many helpful analytics libraries installed\n",
    "# It is defined by the kaggle/python Docker image: https://github.com/kaggle/docker-python\n",
    "# For example, here's several helpful packages to load\n",
    "\n",
    "import numpy as np # linear algebra\n",
    "import pandas as pd # data processing, CSV file I/O (e.g. pd.read_csv)\n",
    "import matplotlib.pyplot as plt\n",
    "\n",
    "# Input data files are available in the read-only \"../input/\" directory\n",
    "# For example, running this (by clicking run or pressing Shift+Enter) will list all files under the input directory\n",
    "\n",
    "import os\n",
    "for dirname, _, filenames in os.walk('/kaggle/input'):\n",
    "    for filename in filenames:\n",
    "        print(os.path.join(dirname, filename))\n",
    "\n",
    "# You can write up to 20GB to the current directory (/kaggle/working/) that gets preserved as output when you create a version using \"Save & Run All\" \n",
    "# You can also write temporary files to /kaggle/temp/, but they won't be saved outside of the current session"
   ]
  },
  {
   "cell_type": "code",
   "execution_count": 2,
   "id": "61ed3e8b",
   "metadata": {
    "execution": {
     "iopub.execute_input": "2022-03-13T22:01:17.342137Z",
     "iopub.status.busy": "2022-03-13T22:01:17.341132Z",
     "iopub.status.idle": "2022-03-13T22:01:17.344445Z",
     "shell.execute_reply": "2022-03-13T22:01:17.344846Z",
     "shell.execute_reply.started": "2022-03-13T21:33:39.053745Z"
    },
    "papermill": {
     "duration": 0.018846,
     "end_time": "2022-03-13T22:01:17.345013",
     "exception": false,
     "start_time": "2022-03-13T22:01:17.326167",
     "status": "completed"
    },
    "tags": []
   },
   "outputs": [],
   "source": [
    "#Question 1 will be what is the most popular chess opening and what are the best alternatives\n",
    "#Q1 outcome variable will be most_played, second_popular, third_popular\n",
    "#To explore the outcome varaible most_played, I plan to look at how many times an opening is played,\n",
    "#Q1 will contain the following models: times opening played(opening_name variable) and which opening (opening_name)"
   ]
  },
  {
   "cell_type": "code",
   "execution_count": 3,
   "id": "e56092e7",
   "metadata": {
    "execution": {
     "iopub.execute_input": "2022-03-13T22:01:17.372936Z",
     "iopub.status.busy": "2022-03-13T22:01:17.371231Z",
     "iopub.status.idle": "2022-03-13T22:01:17.376080Z",
     "shell.execute_reply": "2022-03-13T22:01:17.375441Z",
     "shell.execute_reply.started": "2022-03-13T21:33:39.065261Z"
    },
    "papermill": {
     "duration": 0.019497,
     "end_time": "2022-03-13T22:01:17.376221",
     "exception": false,
     "start_time": "2022-03-13T22:01:17.356724",
     "status": "completed"
    },
    "tags": []
   },
   "outputs": [],
   "source": [
    "#Question 2 will be which chess opening results are definitive: win or loss and how many wins and losses are there in the dataset\n",
    "#Question 2 will have the outcome variable opening_wins to detect which opening has the most definitive conclusions\n",
    "#To explore the outcome variable, I plan to look at the opening_names and see which opening contains the most \"win\",\"loss\",\"draw\" for the top 3 most popular openings as found in Q1\n",
    "#Q2 will contain the following models: times opening played, how many wins per top 3 openings"
   ]
  },
  {
   "cell_type": "code",
   "execution_count": 4,
   "id": "572477a5",
   "metadata": {
    "execution": {
     "iopub.execute_input": "2022-03-13T22:01:17.405567Z",
     "iopub.status.busy": "2022-03-13T22:01:17.404847Z",
     "iopub.status.idle": "2022-03-13T22:01:17.408016Z",
     "shell.execute_reply": "2022-03-13T22:01:17.407480Z",
     "shell.execute_reply.started": "2022-03-13T21:33:39.081148Z"
    },
    "papermill": {
     "duration": 0.019454,
     "end_time": "2022-03-13T22:01:17.408178",
     "exception": false,
     "start_time": "2022-03-13T22:01:17.388724",
     "status": "completed"
    },
    "tags": []
   },
   "outputs": [],
   "source": [
    "#Question 3 will be which chess opening results in the most and which has the least amount of moves\n",
    "#Q3 outcome variable will be most_moves and least_moves\n",
    "#To explore the outcome variable, I plan to look at the average amount of moves for the entire dataset, the opening which has the average of most moves, and the opening with the least moves\n",
    "#To explore this, I will use pivot tables\n",
    "#Q3 will contain the following models: average moves per top openings and the min/max for each too"
   ]
  },
  {
   "cell_type": "code",
   "execution_count": 5,
   "id": "69f81306",
   "metadata": {
    "execution": {
     "iopub.execute_input": "2022-03-13T22:01:17.437506Z",
     "iopub.status.busy": "2022-03-13T22:01:17.436717Z",
     "iopub.status.idle": "2022-03-13T22:01:17.685504Z",
     "shell.execute_reply": "2022-03-13T22:01:17.686240Z",
     "shell.execute_reply.started": "2022-03-13T21:49:11.266875Z"
    },
    "papermill": {
     "duration": 0.266533,
     "end_time": "2022-03-13T22:01:17.686500",
     "exception": false,
     "start_time": "2022-03-13T22:01:17.419967",
     "status": "completed"
    },
    "tags": []
   },
   "outputs": [
    {
     "name": "stdout",
     "output_type": "stream",
     "text": [
      "         id  rated    created_at  last_move_at  turns victory_status winner  \\\n",
      "0  TZJHLljE  False  1.504210e+12  1.504210e+12     13      outoftime  white   \n",
      "1  l1NXvwaE   True  1.504130e+12  1.504130e+12     16         resign  black   \n",
      "2  mIICvQHh   True  1.504130e+12  1.504130e+12     61           mate  white   \n",
      "3  kWKvrqYL   True  1.504110e+12  1.504110e+12     61           mate  white   \n",
      "4  9tXo1AUZ   True  1.504030e+12  1.504030e+12     95           mate  white   \n",
      "\n",
      "  increment_code       white_id  white_rating      black_id  black_rating  \\\n",
      "0           15+2       bourgris          1500          a-00          1191   \n",
      "1           5+10           a-00          1322     skinnerua          1261   \n",
      "2           5+10         ischia          1496          a-00          1500   \n",
      "3           20+0  daniamurashov          1439  adivanov2009          1454   \n",
      "4           30+3      nik221107          1523  adivanov2009          1469   \n",
      "\n",
      "                                               moves opening_eco  \\\n",
      "0  d4 d5 c4 c6 cxd5 e6 dxe6 fxe6 Nf3 Bb4+ Nc3 Ba5...         D10   \n",
      "1  d4 Nc6 e4 e5 f4 f6 dxe5 fxe5 fxe5 Nxe5 Qd4 Nc6...         B00   \n",
      "2  e4 e5 d3 d6 Be3 c6 Be2 b5 Nd2 a5 a4 c5 axb5 Nc...         C20   \n",
      "3  d4 d5 Nf3 Bf5 Nc3 Nf6 Bf4 Ng4 e3 Nc6 Be2 Qd7 O...         D02   \n",
      "4  e4 e5 Nf3 d6 d4 Nc6 d5 Nb4 a3 Na6 Nc3 Be7 b4 N...         C41   \n",
      "\n",
      "                             opening_name  opening_ply  \n",
      "0        Slav Defense: Exchange Variation            5  \n",
      "1  Nimzowitsch Defense: Kennedy Variation            4  \n",
      "2   King's Pawn Game: Leonardis Variation            3  \n",
      "3  Queen's Pawn Game: Zukertort Variation            3  \n",
      "4                        Philidor Defense            5  \n",
      "<class 'pandas.core.frame.DataFrame'>\n",
      "RangeIndex: 20058 entries, 0 to 20057\n",
      "Data columns (total 16 columns):\n",
      " #   Column          Non-Null Count  Dtype  \n",
      "---  ------          --------------  -----  \n",
      " 0   id              20058 non-null  object \n",
      " 1   rated           20058 non-null  bool   \n",
      " 2   created_at      20058 non-null  float64\n",
      " 3   last_move_at    20058 non-null  float64\n",
      " 4   turns           20058 non-null  int64  \n",
      " 5   victory_status  20058 non-null  object \n",
      " 6   winner          20058 non-null  object \n",
      " 7   increment_code  20058 non-null  object \n",
      " 8   white_id        20058 non-null  object \n",
      " 9   white_rating    20058 non-null  int64  \n",
      " 10  black_id        20058 non-null  object \n",
      " 11  black_rating    20058 non-null  int64  \n",
      " 12  moves           20058 non-null  object \n",
      " 13  opening_eco     20058 non-null  object \n",
      " 14  opening_name    20058 non-null  object \n",
      " 15  opening_ply     20058 non-null  int64  \n",
      "dtypes: bool(1), float64(2), int64(4), object(9)\n",
      "memory usage: 2.3+ MB\n"
     ]
    }
   ],
   "source": [
    "#This is code to read and get some basic info on the chess set\n",
    "chess_set = pd.read_csv(\"/kaggle/input/chess/games.csv\")\n",
    "print(chess_set.head())\n",
    "chess_set.info()"
   ]
  },
  {
   "cell_type": "markdown",
   "id": "b635c316",
   "metadata": {
    "papermill": {
     "duration": 0.012448,
     "end_time": "2022-03-13T22:01:17.713358",
     "exception": false,
     "start_time": "2022-03-13T22:01:17.700910",
     "status": "completed"
    },
    "tags": []
   },
   "source": [
    "Q1"
   ]
  },
  {
   "cell_type": "code",
   "execution_count": 6,
   "id": "e2628ecb",
   "metadata": {
    "execution": {
     "iopub.execute_input": "2022-03-13T22:01:17.742717Z",
     "iopub.status.busy": "2022-03-13T22:01:17.741935Z",
     "iopub.status.idle": "2022-03-13T22:01:17.943261Z",
     "shell.execute_reply": "2022-03-13T22:01:17.943709Z",
     "shell.execute_reply.started": "2022-03-13T21:52:37.262016Z"
    },
    "papermill": {
     "duration": 0.217406,
     "end_time": "2022-03-13T22:01:17.943890",
     "exception": false,
     "start_time": "2022-03-13T22:01:17.726484",
     "status": "completed"
    },
    "tags": []
   },
   "outputs": [
    {
     "data": {
      "image/png": "[encoded data removed]",
      "text/plain": [
       "<Figure size 432x288 with 1 Axes>"
      ]
     },
     "metadata": {
      "needs_background": "light"
     },
     "output_type": "display_data"
    },
    {
     "data": {
      "text/html": [
       "<div>\n",
       "<style scoped>\n",
       "    .dataframe tbody tr th:only-of-type {\n",
       "        vertical-align: middle;\n",
       "    }\n",
       "\n",
       "    .dataframe tbody tr th {\n",
       "        vertical-align: top;\n",
       "    }\n",
       "\n",
       "    .dataframe thead th {\n",
       "        text-align: right;\n",
       "    }\n",
       "</style>\n",
       "<table border=\"1\" class=\"dataframe\">\n",
       "  <thead>\n",
       "    <tr style=\"text-align: right;\">\n",
       "      <th></th>\n",
       "      <th>opening_name</th>\n",
       "    </tr>\n",
       "  </thead>\n",
       "  <tbody>\n",
       "    <tr>\n",
       "      <th>Van't Kruijs Opening</th>\n",
       "      <td>368</td>\n",
       "    </tr>\n",
       "    <tr>\n",
       "      <th>Sicilian Defense</th>\n",
       "      <td>358</td>\n",
       "    </tr>\n",
       "    <tr>\n",
       "      <th>Sicilian Defense: Bowdler Attack</th>\n",
       "      <td>296</td>\n",
       "    </tr>\n",
       "  </tbody>\n",
       "</table>\n",
       "</div>"
      ],
      "text/plain": [
       "                                  opening_name\n",
       "Van't Kruijs Opening                       368\n",
       "Sicilian Defense                           358\n",
       "Sicilian Defense: Bowdler Attack           296"
      ]
     },
     "execution_count": 6,
     "metadata": {},
     "output_type": "execute_result"
    }
   ],
   "source": [
    "#Q1 Find out how many different openings are played in the data set\n",
    "open_count = chess_set[\"opening_name\"].value_counts()\n",
    "open_count.head(3).sort_values().plot(kind='barh',color=['blue','green','pink'],edgecolor='black')\n",
    "plt.xlabel('Times Opening Used')\n",
    "plt.ylabel('Top Opening Use')\n",
    "plt.title('Number of Times Top Opening Used')\n",
    "plt.show()\n",
    "open_count.to_frame().head(3)\n",
    "#This graph shows the top three most played openings, the Van't Kruijs Opening, the Sicilian Defense, and the Sicilian Defence: Bowdler Attack Variation"
   ]
  },
  {
   "cell_type": "markdown",
   "id": "aaf1c844",
   "metadata": {
    "papermill": {
     "duration": 0.012963,
     "end_time": "2022-03-13T22:01:17.970241",
     "exception": false,
     "start_time": "2022-03-13T22:01:17.957278",
     "status": "completed"
    },
    "tags": []
   },
   "source": [
    "Q2"
   ]
  },
  {
   "cell_type": "code",
   "execution_count": 7,
   "id": "e5f9fbd8",
   "metadata": {
    "execution": {
     "iopub.execute_input": "2022-03-13T22:01:18.113761Z",
     "iopub.status.busy": "2022-03-13T22:01:18.112756Z",
     "iopub.status.idle": "2022-03-13T22:01:18.219140Z",
     "shell.execute_reply": "2022-03-13T22:01:18.219931Z",
     "shell.execute_reply.started": "2022-03-13T21:33:39.580614Z"
    },
    "papermill": {
     "duration": 0.236274,
     "end_time": "2022-03-13T22:01:18.220223",
     "exception": false,
     "start_time": "2022-03-13T22:01:17.983949",
     "status": "completed"
    },
    "tags": []
   },
   "outputs": [
    {
     "name": "stdout",
     "output_type": "stream",
     "text": [
      "Resign    0.606540\n",
      "Mate      0.344161\n",
      "Draw      0.049298\n",
      "Name: outcomes, dtype: float64\n"
     ]
    },
    {
     "data": {
      "image/png": "[encoded data removed]",
      "text/plain": [
       "<Figure size 432x288 with 1 Axes>"
      ]
     },
     "metadata": {},
     "output_type": "display_data"
    }
   ],
   "source": [
    "#Question 2 will be which chess opening results are definitive: win or loss (no draws), and how many wins and losses are there in the dataset\n",
    "fig, ax = plt.subplots()\n",
    "WLD = {'outoftimes':'Out Of Time','resign':'Resign','mate':'Mate','draw':'Draw'}\n",
    "chess_set['outcomes']=chess_set.victory_status.map(WLD)\n",
    "outcomes = chess_set.outcomes.value_counts(normalize=True)\n",
    "print(outcomes)\n",
    "#This code tells me there is a 55% chance of resignation, a  31% chance of a mate, an 08% chance of outoftime, and a 04% chance of a draw\n",
    "outcomes.plot(kind='pie', colors = ['pink','green','blue','grey'])\n",
    "ax.set_xlabel = ('Outcomes')\n",
    "\n",
    "plt.show()\n",
    "#This solves the first of the Q2 of what are the different amount of game resolutions in the dataset. It is clear that there is a large amount of resignations with smaller amounts of mates, and even less out of times, and less draws.VKOW = chess_set[(chess_set.eins)] "
   ]
  },
  {
   "cell_type": "code",
   "execution_count": 8,
   "id": "67288287",
   "metadata": {
    "execution": {
     "iopub.execute_input": "2022-03-13T22:01:18.282408Z",
     "iopub.status.busy": "2022-03-13T22:01:18.281328Z",
     "iopub.status.idle": "2022-03-13T22:01:18.386291Z",
     "shell.execute_reply": "2022-03-13T22:01:18.386756Z",
     "shell.execute_reply.started": "2022-03-13T21:33:39.703184Z"
    },
    "papermill": {
     "duration": 0.138545,
     "end_time": "2022-03-13T22:01:18.386922",
     "exception": false,
     "start_time": "2022-03-13T22:01:18.248377",
     "status": "completed"
    },
    "tags": []
   },
   "outputs": [
    {
     "data": {
      "text/html": [
       "<div>\n",
       "<style scoped>\n",
       "    .dataframe tbody tr th:only-of-type {\n",
       "        vertical-align: middle;\n",
       "    }\n",
       "\n",
       "    .dataframe tbody tr th {\n",
       "        vertical-align: top;\n",
       "    }\n",
       "\n",
       "    .dataframe thead th {\n",
       "        text-align: right;\n",
       "    }\n",
       "</style>\n",
       "<table border=\"1\" class=\"dataframe\">\n",
       "  <thead>\n",
       "    <tr style=\"text-align: right;\">\n",
       "      <th></th>\n",
       "      <th>victory_status</th>\n",
       "    </tr>\n",
       "  </thead>\n",
       "  <tbody>\n",
       "    <tr>\n",
       "      <th>resign</th>\n",
       "      <td>11147</td>\n",
       "    </tr>\n",
       "    <tr>\n",
       "      <th>mate</th>\n",
       "      <td>6325</td>\n",
       "    </tr>\n",
       "    <tr>\n",
       "      <th>outoftime</th>\n",
       "      <td>1680</td>\n",
       "    </tr>\n",
       "    <tr>\n",
       "      <th>draw</th>\n",
       "      <td>906</td>\n",
       "    </tr>\n",
       "  </tbody>\n",
       "</table>\n",
       "</div>"
      ],
      "text/plain": [
       "           victory_status\n",
       "resign              11147\n",
       "mate                 6325\n",
       "outoftime            1680\n",
       "draw                  906"
      ]
     },
     "execution_count": 8,
     "metadata": {},
     "output_type": "execute_result"
    }
   ],
   "source": [
    "#The second part of question two will explore which opening contains the most amount of wins for each color of the top three most popular openings\n",
    "VKW = chess_set[(chess_set.victory_status == 'resign') & (chess_set.winner =='white')& (chess_set.opening_name==\"Van't Kruijs Opening\")].value_counts().sum()\n",
    "#This shows that there is 79 victories for white in the VK\n",
    "VKB = chess_set[(chess_set.victory_status == 'resign') & (chess_set.winner =='black')&(chess_set.opening_name==\"Van't Kruijs Opening\")].value_counts().sum()\n",
    "#This shows that there are 92 victories for black in the VK\n",
    "SDW = chess_set[(chess_set.victory_status == 'resign') & (chess_set.winner =='white')&(chess_set.opening_name==\"Sicilian Defense\")].value_counts().sum()\n",
    "#This shows that there are 94 victories for white using the SD\n",
    "SDB = chess_set[(chess_set.victory_status == 'resign') & (chess_set.winner =='black')&(chess_set.opening_name==\"Sicilian Defense\")].value_counts().sum()\n",
    "#This shows that there are 110 victories for black using the SD\n",
    "SDBAW = chess_set[(chess_set.victory_status == 'resign') & (chess_set.winner =='white')&(chess_set.opening_name==\"Sicilian Defense: Bowdler Attack\")].value_counts().sum()\n",
    "#This shows that there are 110 victories for white using the SDBA\n",
    "SDBAB = chess_set[(chess_set.victory_status == 'resign') & (chess_set.winner =='black')&(chess_set.opening_name==\"Sicilian Defense: Bowdler Attack\")].value_counts().sum()\n",
    "#This shows that there are 82 victories for black using the SDBA\n",
    "\n",
    "wins_for_white = [VKW, SDW, SDBAW]\n",
    "wins_for_black = [VKB, SDB, SDBAB]\n",
    "chess_set['total_wins'] = pd.Series(tuple([wins_for_white, wins_for_black]))\n",
    "#chess_set.pivot_table(values=['opening_name'],index=['victory_status'])\n",
    "chess_set['victory_status'].value_counts().to_frame()"
   ]
  },
  {
   "cell_type": "markdown",
   "id": "7a1528f7",
   "metadata": {
    "papermill": {
     "duration": 0.014062,
     "end_time": "2022-03-13T22:01:18.415497",
     "exception": false,
     "start_time": "2022-03-13T22:01:18.401435",
     "status": "completed"
    },
    "tags": []
   },
   "source": [
    "Q3"
   ]
  },
  {
   "cell_type": "code",
   "execution_count": 9,
   "id": "76d0c092",
   "metadata": {
    "execution": {
     "iopub.execute_input": "2022-03-13T22:01:18.447676Z",
     "iopub.status.busy": "2022-03-13T22:01:18.446923Z",
     "iopub.status.idle": "2022-03-13T22:01:18.505875Z",
     "shell.execute_reply": "2022-03-13T22:01:18.506338Z",
     "shell.execute_reply.started": "2022-03-13T21:33:39.878397Z"
    },
    "papermill": {
     "duration": 0.076659,
     "end_time": "2022-03-13T22:01:18.506526",
     "exception": false,
     "start_time": "2022-03-13T22:01:18.429867",
     "status": "completed"
    },
    "tags": []
   },
   "outputs": [
    {
     "data": {
      "text/html": [
       "<div>\n",
       "<style scoped>\n",
       "    .dataframe tbody tr th:only-of-type {\n",
       "        vertical-align: middle;\n",
       "    }\n",
       "\n",
       "    .dataframe tbody tr th {\n",
       "        vertical-align: top;\n",
       "    }\n",
       "\n",
       "    .dataframe thead th {\n",
       "        text-align: right;\n",
       "    }\n",
       "</style>\n",
       "<table border=\"1\" class=\"dataframe\">\n",
       "  <thead>\n",
       "    <tr style=\"text-align: right;\">\n",
       "      <th></th>\n",
       "      <th>turns</th>\n",
       "    </tr>\n",
       "    <tr>\n",
       "      <th>opening_name</th>\n",
       "      <th></th>\n",
       "    </tr>\n",
       "  </thead>\n",
       "  <tbody>\n",
       "    <tr>\n",
       "      <th>Alekhine Defense</th>\n",
       "      <td>2</td>\n",
       "    </tr>\n",
       "    <tr>\n",
       "      <th>Alekhine Defense #2</th>\n",
       "      <td>13</td>\n",
       "    </tr>\n",
       "    <tr>\n",
       "      <th>Alekhine Defense #3</th>\n",
       "      <td>26</td>\n",
       "    </tr>\n",
       "    <tr>\n",
       "      <th>Alekhine Defense: Balogh Variation</th>\n",
       "      <td>34</td>\n",
       "    </tr>\n",
       "    <tr>\n",
       "      <th>Alekhine Defense: Brooklyn Variation</th>\n",
       "      <td>27</td>\n",
       "    </tr>\n",
       "  </tbody>\n",
       "</table>\n",
       "</div>"
      ],
      "text/plain": [
       "                                      turns\n",
       "opening_name                               \n",
       "Alekhine Defense                          2\n",
       "Alekhine Defense #2                      13\n",
       "Alekhine Defense #3                      26\n",
       "Alekhine Defense: Balogh Variation       34\n",
       "Alekhine Defense: Brooklyn Variation     27"
      ]
     },
     "execution_count": 9,
     "metadata": {},
     "output_type": "execute_result"
    }
   ],
   "source": [
    "#The first section of Q3 will find what is the maximum amount of moves in the dataset in a game, what is the minimum amount of moves in a game, and what is the average amount of moves per game.\n",
    "most_moves = chess_set['turns'].max()\n",
    "average_moves = chess_set[\"turns\"].mean()\n",
    "least_moves = chess_set[\"turns\"].min()\n",
    "#These three variables determine the max, min, and average of the games.\n",
    "#print(\"Most Moves in dataset:\" + str(most_moves), \"Average Moves of dataset:\"+str(average_moves), \"Least_Moves in dataset:\"+str(least_moves))\n",
    "#vkmax = chess_set[(chess_set[\"turns\"]==max(chess_set[\"turns\"])&(chess_set.opening_name==\"Van't Kruijs Opening\")\n",
    "\n",
    "\n",
    "\n",
    "#vkmax is Van't Kruijs max moves\n",
    "vkmin = chess_set[(chess_set[\"turns\"]==chess_set[\"turns\"])& (chess_set.opening_name==\"Van't Kruijs Opening\")]\n",
    "\n",
    "\n",
    "#vkmin is Van't Kruijs min moves\n",
    "vkave = chess_set[(chess_set[\"turns\"]==chess_set[\"turns\"].mean)& (chess_set.opening_name==\"Van't Kruijs Opening\")]\n",
    "#vkave is Van't Kruijs average moves\n",
    "sdmax = chess_set[(chess_set[\"turns\"]==chess_set[\"turns\"].max)& (chess_set.opening_name==\"Sicilian Defense\")]\n",
    "#sdmax is the Sicilian Defense max moves\n",
    "sdmin = chess_set[(chess_set[\"turns\"]==chess_set[\"turns\"].min)& (chess_set.opening_name==\"Sicilian Defense\")]\n",
    "#sdmin is the Sicilian Defense min moves\n",
    "sdave = chess_set[(chess_set[\"turns\"]==chess_set[\"turns\"].mean)& (chess_set.opening_name==\"Sicilian Defense\")]\n",
    "#sdave is the Sicilian Defense average moves\n",
    "sdbamax = chess_set[(chess_set[\"turns\"]==chess_set[\"turns\"].max)& (chess_set.opening_name==\"Sicilian Defense: Bowdler Attack\")]\n",
    "#sdbamax is the Sicilian Defense: Bowdler Attack max moves\n",
    "sdbamin = chess_set[(chess_set[\"turns\"]==chess_set[\"turns\"].min)& (chess_set.opening_name==\"Sicilian Defense: Bowdler Attack\")]\n",
    "#sdbamin is the Sicilian Defense: Bowdler Attack min moves\n",
    "sdbaave = chess_set[(chess_set[\"turns\"]==chess_set[\"turns\"].mean)& (chess_set.opening_name==\"Sicilian Defense: Bowdler Attack\")]\n",
    "#sdbaave is the Sicilian Defense: Bowdler Attack average moves\n",
    "#print(min(vkmin))\n",
    "\n",
    "#The above code is intented to find out the max, min, and average moves for each of the focused openings, this code will be saved and reused for a later date.\n",
    "\n",
    "\n",
    "chess_set.pivot_table(values=\"turns\",index=\"opening_name\",aggfunc=np.min).head()\n",
    "#The table below indicates the minimum amount of turns for each opening"
   ]
  },
  {
   "cell_type": "code",
   "execution_count": 10,
   "id": "c459021b",
   "metadata": {
    "execution": {
     "iopub.execute_input": "2022-03-13T22:01:18.541988Z",
     "iopub.status.busy": "2022-03-13T22:01:18.538844Z",
     "iopub.status.idle": "2022-03-13T22:01:18.558741Z",
     "shell.execute_reply": "2022-03-13T22:01:18.558210Z",
     "shell.execute_reply.started": "2022-03-13T21:33:39.962647Z"
    },
    "papermill": {
     "duration": 0.037677,
     "end_time": "2022-03-13T22:01:18.558877",
     "exception": false,
     "start_time": "2022-03-13T22:01:18.521200",
     "status": "completed"
    },
    "tags": []
   },
   "outputs": [
    {
     "data": {
      "text/html": [
       "<div>\n",
       "<style scoped>\n",
       "    .dataframe tbody tr th:only-of-type {\n",
       "        vertical-align: middle;\n",
       "    }\n",
       "\n",
       "    .dataframe tbody tr th {\n",
       "        vertical-align: top;\n",
       "    }\n",
       "\n",
       "    .dataframe thead th {\n",
       "        text-align: right;\n",
       "    }\n",
       "</style>\n",
       "<table border=\"1\" class=\"dataframe\">\n",
       "  <thead>\n",
       "    <tr style=\"text-align: right;\">\n",
       "      <th></th>\n",
       "      <th>turns</th>\n",
       "    </tr>\n",
       "    <tr>\n",
       "      <th>opening_name</th>\n",
       "      <th></th>\n",
       "    </tr>\n",
       "  </thead>\n",
       "  <tbody>\n",
       "    <tr>\n",
       "      <th>Alekhine Defense</th>\n",
       "      <td>163</td>\n",
       "    </tr>\n",
       "    <tr>\n",
       "      <th>Alekhine Defense #2</th>\n",
       "      <td>118</td>\n",
       "    </tr>\n",
       "    <tr>\n",
       "      <th>Alekhine Defense #3</th>\n",
       "      <td>26</td>\n",
       "    </tr>\n",
       "    <tr>\n",
       "      <th>Alekhine Defense: Balogh Variation</th>\n",
       "      <td>34</td>\n",
       "    </tr>\n",
       "    <tr>\n",
       "      <th>Alekhine Defense: Brooklyn Variation</th>\n",
       "      <td>59</td>\n",
       "    </tr>\n",
       "  </tbody>\n",
       "</table>\n",
       "</div>"
      ],
      "text/plain": [
       "                                      turns\n",
       "opening_name                               \n",
       "Alekhine Defense                        163\n",
       "Alekhine Defense #2                     118\n",
       "Alekhine Defense #3                      26\n",
       "Alekhine Defense: Balogh Variation       34\n",
       "Alekhine Defense: Brooklyn Variation     59"
      ]
     },
     "execution_count": 10,
     "metadata": {},
     "output_type": "execute_result"
    }
   ],
   "source": [
    "chess_set.pivot_table(values=\"turns\",index=\"opening_name\",aggfunc=np.max).head()\n",
    "#The table below indicates the maximum amount of turns that occur for each opening"
   ]
  },
  {
   "cell_type": "code",
   "execution_count": 11,
   "id": "e36b1a30",
   "metadata": {
    "execution": {
     "iopub.execute_input": "2022-03-13T22:01:18.595776Z",
     "iopub.status.busy": "2022-03-13T22:01:18.595084Z",
     "iopub.status.idle": "2022-03-13T22:01:18.612180Z",
     "shell.execute_reply": "2022-03-13T22:01:18.612661Z",
     "shell.execute_reply.started": "2022-03-13T21:33:39.986381Z"
    },
    "papermill": {
     "duration": 0.038605,
     "end_time": "2022-03-13T22:01:18.612838",
     "exception": false,
     "start_time": "2022-03-13T22:01:18.574233",
     "status": "completed"
    },
    "tags": []
   },
   "outputs": [
    {
     "data": {
      "text/html": [
       "<div>\n",
       "<style scoped>\n",
       "    .dataframe tbody tr th:only-of-type {\n",
       "        vertical-align: middle;\n",
       "    }\n",
       "\n",
       "    .dataframe tbody tr th {\n",
       "        vertical-align: top;\n",
       "    }\n",
       "\n",
       "    .dataframe thead th {\n",
       "        text-align: right;\n",
       "    }\n",
       "</style>\n",
       "<table border=\"1\" class=\"dataframe\">\n",
       "  <thead>\n",
       "    <tr style=\"text-align: right;\">\n",
       "      <th></th>\n",
       "      <th>turns</th>\n",
       "    </tr>\n",
       "    <tr>\n",
       "      <th>opening_name</th>\n",
       "      <th></th>\n",
       "    </tr>\n",
       "  </thead>\n",
       "  <tbody>\n",
       "    <tr>\n",
       "      <th>Alekhine Defense</th>\n",
       "      <td>57.717391</td>\n",
       "    </tr>\n",
       "    <tr>\n",
       "      <th>Alekhine Defense #2</th>\n",
       "      <td>56.666667</td>\n",
       "    </tr>\n",
       "    <tr>\n",
       "      <th>Alekhine Defense #3</th>\n",
       "      <td>26.000000</td>\n",
       "    </tr>\n",
       "    <tr>\n",
       "      <th>Alekhine Defense: Balogh Variation</th>\n",
       "      <td>34.000000</td>\n",
       "    </tr>\n",
       "    <tr>\n",
       "      <th>Alekhine Defense: Brooklyn Variation</th>\n",
       "      <td>43.000000</td>\n",
       "    </tr>\n",
       "  </tbody>\n",
       "</table>\n",
       "</div>"
      ],
      "text/plain": [
       "                                          turns\n",
       "opening_name                                   \n",
       "Alekhine Defense                      57.717391\n",
       "Alekhine Defense #2                   56.666667\n",
       "Alekhine Defense #3                   26.000000\n",
       "Alekhine Defense: Balogh Variation    34.000000\n",
       "Alekhine Defense: Brooklyn Variation  43.000000"
      ]
     },
     "execution_count": 11,
     "metadata": {},
     "output_type": "execute_result"
    }
   ],
   "source": [
    "chess_set.pivot_table(values=\"turns\",index=\"opening_name\").head()\n",
    "#The table below indicates the average amount of turns that occur for each opening"
   ]
  },
  {
   "cell_type": "code",
   "execution_count": 12,
   "id": "75a6e558",
   "metadata": {
    "execution": {
     "iopub.execute_input": "2022-03-13T22:01:18.656238Z",
     "iopub.status.busy": "2022-03-13T22:01:18.655211Z",
     "iopub.status.idle": "2022-03-13T22:01:18.668949Z",
     "shell.execute_reply": "2022-03-13T22:01:18.668413Z",
     "shell.execute_reply.started": "2022-03-13T21:33:40.010922Z"
    },
    "papermill": {
     "duration": 0.040845,
     "end_time": "2022-03-13T22:01:18.669144",
     "exception": false,
     "start_time": "2022-03-13T22:01:18.628299",
     "status": "completed"
    },
    "tags": []
   },
   "outputs": [
    {
     "data": {
      "text/html": [
       "<div>\n",
       "<style scoped>\n",
       "    .dataframe tbody tr th:only-of-type {\n",
       "        vertical-align: middle;\n",
       "    }\n",
       "\n",
       "    .dataframe tbody tr th {\n",
       "        vertical-align: top;\n",
       "    }\n",
       "\n",
       "    .dataframe thead th {\n",
       "        text-align: right;\n",
       "    }\n",
       "</style>\n",
       "<table border=\"1\" class=\"dataframe\">\n",
       "  <thead>\n",
       "    <tr style=\"text-align: right;\">\n",
       "      <th></th>\n",
       "      <th>less_than_10_turns</th>\n",
       "    </tr>\n",
       "  </thead>\n",
       "  <tbody>\n",
       "    <tr>\n",
       "      <th>False</th>\n",
       "      <td>159</td>\n",
       "    </tr>\n",
       "    <tr>\n",
       "      <th>True</th>\n",
       "      <td>52</td>\n",
       "    </tr>\n",
       "  </tbody>\n",
       "</table>\n",
       "</div>"
      ],
      "text/plain": [
       "       less_than_10_turns\n",
       "False                 159\n",
       "True                   52"
      ]
     },
     "execution_count": 12,
     "metadata": {},
     "output_type": "execute_result"
    }
   ],
   "source": [
    "less_than_10_turns = chess_set['less_than_10_turns']= chess_set.turns.value_counts()<=10\n",
    "chess_set.less_than_10_turns.value_counts().to_frame()\n",
    "#This code identifies how many games are less than, and how many are greater than 10 turns\n",
    "#The false row indicates that there are 159 games that are more than 10 moves, with 49 games that are not"
   ]
  },
  {
   "cell_type": "code",
   "execution_count": 13,
   "id": "476e9b2d",
   "metadata": {
    "execution": {
     "iopub.execute_input": "2022-03-13T22:01:18.724258Z",
     "iopub.status.busy": "2022-03-13T22:01:18.723336Z",
     "iopub.status.idle": "2022-03-13T22:01:18.734433Z",
     "shell.execute_reply": "2022-03-13T22:01:18.735516Z",
     "shell.execute_reply.started": "2022-03-13T21:33:40.028241Z"
    },
    "papermill": {
     "duration": 0.043287,
     "end_time": "2022-03-13T22:01:18.735788",
     "exception": false,
     "start_time": "2022-03-13T22:01:18.692501",
     "status": "completed"
    },
    "tags": []
   },
   "outputs": [
    {
     "data": {
      "text/html": [
       "<div>\n",
       "<style scoped>\n",
       "    .dataframe tbody tr th:only-of-type {\n",
       "        vertical-align: middle;\n",
       "    }\n",
       "\n",
       "    .dataframe tbody tr th {\n",
       "        vertical-align: top;\n",
       "    }\n",
       "\n",
       "    .dataframe thead th {\n",
       "        text-align: right;\n",
       "    }\n",
       "</style>\n",
       "<table border=\"1\" class=\"dataframe\">\n",
       "  <thead>\n",
       "    <tr style=\"text-align: right;\">\n",
       "      <th></th>\n",
       "      <th>less_than_50_turns</th>\n",
       "    </tr>\n",
       "  </thead>\n",
       "  <tbody>\n",
       "    <tr>\n",
       "      <th>False</th>\n",
       "      <td>117</td>\n",
       "    </tr>\n",
       "    <tr>\n",
       "      <th>True</th>\n",
       "      <td>94</td>\n",
       "    </tr>\n",
       "  </tbody>\n",
       "</table>\n",
       "</div>"
      ],
      "text/plain": [
       "       less_than_50_turns\n",
       "False                 117\n",
       "True                   94"
      ]
     },
     "execution_count": 13,
     "metadata": {},
     "output_type": "execute_result"
    }
   ],
   "source": [
    "less_than_50_turns = chess_set['less_than_50_turns']= chess_set.turns.value_counts()<=50\n",
    "chess_set.less_than_50_turns.value_counts().to_frame()\n",
    "#This code identifies how many games are less than, and how many are greater than 50 turns\n",
    "#The false row indicates that there are 94 games that are less than 50 moves, with 117 games that are not"
   ]
  },
  {
   "cell_type": "code",
   "execution_count": 14,
   "id": "da631458",
   "metadata": {
    "execution": {
     "iopub.execute_input": "2022-03-13T22:01:18.789176Z",
     "iopub.status.busy": "2022-03-13T22:01:18.788458Z",
     "iopub.status.idle": "2022-03-13T22:01:18.798133Z",
     "shell.execute_reply": "2022-03-13T22:01:18.798667Z",
     "shell.execute_reply.started": "2022-03-13T21:33:40.046103Z"
    },
    "papermill": {
     "duration": 0.038446,
     "end_time": "2022-03-13T22:01:18.798882",
     "exception": false,
     "start_time": "2022-03-13T22:01:18.760436",
     "status": "completed"
    },
    "tags": []
   },
   "outputs": [
    {
     "data": {
      "text/html": [
       "<div>\n",
       "<style scoped>\n",
       "    .dataframe tbody tr th:only-of-type {\n",
       "        vertical-align: middle;\n",
       "    }\n",
       "\n",
       "    .dataframe tbody tr th {\n",
       "        vertical-align: top;\n",
       "    }\n",
       "\n",
       "    .dataframe thead th {\n",
       "        text-align: right;\n",
       "    }\n",
       "</style>\n",
       "<table border=\"1\" class=\"dataframe\">\n",
       "  <thead>\n",
       "    <tr style=\"text-align: right;\">\n",
       "      <th></th>\n",
       "      <th>less_than_100_turns</th>\n",
       "    </tr>\n",
       "  </thead>\n",
       "  <tbody>\n",
       "    <tr>\n",
       "      <th>True</th>\n",
       "      <td>130</td>\n",
       "    </tr>\n",
       "    <tr>\n",
       "      <th>False</th>\n",
       "      <td>81</td>\n",
       "    </tr>\n",
       "  </tbody>\n",
       "</table>\n",
       "</div>"
      ],
      "text/plain": [
       "       less_than_100_turns\n",
       "True                   130\n",
       "False                   81"
      ]
     },
     "execution_count": 14,
     "metadata": {},
     "output_type": "execute_result"
    }
   ],
   "source": [
    "less_than_100_turns = chess_set['less_than_100_turns']= chess_set.turns.value_counts()<=100\n",
    "chess_set.less_than_100_turns.value_counts().to_frame()\n",
    "#This code identifies how many games are less than, and how many are greater than 100 turns\n",
    "#The false row indicates that there are 153 games that are less than 100 moves, with 94 games that are not"
   ]
  },
  {
   "cell_type": "code",
   "execution_count": 15,
   "id": "5b903df0",
   "metadata": {
    "execution": {
     "iopub.execute_input": "2022-03-13T22:01:18.840791Z",
     "iopub.status.busy": "2022-03-13T22:01:18.840067Z",
     "iopub.status.idle": "2022-03-13T22:01:19.028744Z",
     "shell.execute_reply": "2022-03-13T22:01:19.029408Z",
     "shell.execute_reply.started": "2022-03-13T21:33:40.067832Z"
    },
    "papermill": {
     "duration": 0.211245,
     "end_time": "2022-03-13T22:01:19.029602",
     "exception": false,
     "start_time": "2022-03-13T22:01:18.818357",
     "status": "completed"
    },
    "tags": []
   },
   "outputs": [
    {
     "data": {
      "text/plain": [
       "Text(0.5, 1.0, 'Games Containing 100 or Less Turns')"
      ]
     },
     "execution_count": 15,
     "metadata": {},
     "output_type": "execute_result"
    },
    {
     "data": {
      "image/png": "[encoded data removed]",
      "text/plain": [
       "<Figure size 432x288 with 1 Axes>"
      ]
     },
     "metadata": {
      "needs_background": "light"
     },
     "output_type": "display_data"
    }
   ],
   "source": [
    "xval = ['Less Than 100 Turns', 'Greater Than 100 Turns']\n",
    "height = [152, 58]\n",
    "plt.bar(xval, height,color=['green','pink'],edgecolor='black')\n",
    "plt.xlabel('Number of Games that Contained More or Less Than 100 Turns')\n",
    "plt.ylabel('Number of Turns')\n",
    "plt.title('Games Containing 100 or Less Turns')"
   ]
  }
 ],
 "metadata": {
  "kernelspec": {
   "display_name": "Python 3",
   "language": "python",
   "name": "python3"
  },
  "language_info": {
   "codemirror_mode": {
    "name": "ipython",
    "version": 3
   },
   "file_extension": ".py",
   "mimetype": "text/x-python",
   "name": "python",
   "nbconvert_exporter": "python",
   "pygments_lexer": "ipython3",
   "version": "3.7.12"
  },
  "papermill": {
   "default_parameters": {},
   "duration": 11.655074,
   "end_time": "2022-03-13T22:01:19.760722",
   "environment_variables": {},
   "exception": null,
   "input_path": "__notebook__.ipynb",
   "output_path": "__notebook__.ipynb",
   "parameters": {},
   "start_time": "2022-03-13T22:01:08.105648",
   "version": "2.3.3"
  }
 },
 "nbformat": 4,
 "nbformat_minor": 5
}
